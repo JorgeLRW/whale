{
  "cells": [
    {
      "cell_type": "markdown",
      "id": "2b4838ec",
      "metadata": {},
      "source": [
        "# Whale MRI Synthetic Demo\n",
        "Run the landmark-based witness pipeline on a synthetic MRI phantom directly in Colab."
      ]
    },
    {
      "cell_type": "code",
      "execution_count": null,
      "id": "fe901c5d",
      "metadata": {},
      "outputs": [],
      "source": [
        "import pathlib\n",
        "import subprocess\n",
        "\n",
        "REPO_URL = 'https://github.com/jorgeLRW/whale.git'\n",
        "TARGET = pathlib.Path('whale')\n",
        "\n",
        "if not TARGET.exists():\n",
        "    subprocess.run(['git', 'clone', REPO_URL], check=True)\n",
        "else:\n",
        "    print('Repository already cloned; pulling latest changes.')\n",
        "    subprocess.run(['git', '-C', str(TARGET), 'pull'], check=True)"
      ]
    },
    {
      "cell_type": "code",
      "execution_count": null,
      "id": "2596ad94",
      "metadata": {},
      "outputs": [],
      "source": [
        "import os\n",
        "import pathlib\n",
        "import subprocess\n",
        "import sys\n",
        "\n",
        "REQ_PATH = pathlib.Path('whale/paper_ready/requirements.txt')\n",
        "subprocess.run([sys.executable, '-m', 'pip', 'install', '--quiet', '--upgrade', 'pip'], check=True)\n",
        "subprocess.run([sys.executable, '-m', 'pip', 'install', '--quiet', '-r', str(REQ_PATH)], check=True)\n",
        "os.environ['PYTHONPATH'] = (\n",
        "    str(pathlib.Path('whale/paper_ready/src').resolve())\n",
        "    + os.pathsep\n",
        "    + os.environ.get('PYTHONPATH', '')\n",
        ")\n",
        "print('Dependencies installed and PYTHONPATH configured.')"
      ]
    },
    {
      "cell_type": "code",
      "execution_count": null,
      "id": "3ad27a9e",
      "metadata": {},
      "outputs": [],
      "source": [
        "import os\n",
        "import pathlib\n",
        "import subprocess\n",
        "import sys\n",
        "\n",
        "env = os.environ.copy()\n",
        "env['PYTHONPATH'] = str(pathlib.Path('whale/paper_ready/src').resolve())\n",
        "\n",
        "subprocess.run(\n",
        "    [sys.executable, '-m', 'unittest', 'tests.test_whale_mri_smoke'],\n",
        "    cwd='whale',\n",
        "    check=True,\n",
        "    env=env,\n",
        ")"
      ]
    },
    {
      "cell_type": "code",
      "execution_count": null,
      "id": "5ffba520",
      "metadata": {},
      "outputs": [],
      "source": [
        "import pathlib\n",
        "\n",
        "import pandas as pd\n",
        "\n",
        "from whale.mri import deep_dive\n",
        "\n",
        "output_dir = pathlib.Path('whale/artifacts')\n",
        "output_dir.mkdir(parents=True, exist_ok=True)\n",
        "\n",
        "parser = deep_dive.build_parser()\n",
        "args = parser.parse_args([\n",
        "    '--synthetic',\n",
        "    '--methods', 'random',\n",
        "    '--max-points', '2000',\n",
        "    '--m', '64',\n",
        "    '--rips-points', '0',\n",
        "    '--out', str(output_dir / 'colab_demo.csv'),\n",
        "])\n",
        "rows = deep_dive.run(args)\n",
        "\n",
        "pd.DataFrame(rows).head()"
      ]
    },
    {
      "cell_type": "markdown",
      "id": "25778863",
      "metadata": {},
      "source": [
        "## Next steps\n",
        "\n",
        "- Inspect the generated CSV at `whale/artifacts/colab_demo.csv`.\n",
        "- Adjust `--methods` or `--m` to explore different landmarking strategies.\n",
        "- Swap in your own volume by uploading a NIfTI file and changing the parser arguments."
      ]
    }
  ],
  "metadata": {
    "language_info": {
      "name": "python",
      "version": "3.11"
    },
    "kernelspec": {
      "display_name": "Python 3",
      "language": "python",
      "name": "python3"
    },
    "colab": {
      "name": "Whale MRI Synthetic Demo",
      "provenance": []
    }
  },
  "nbformat": 4,
  "nbformat_minor": 5
}